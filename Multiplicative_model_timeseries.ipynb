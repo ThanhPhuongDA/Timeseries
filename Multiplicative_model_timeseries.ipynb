{
  "nbformat": 4,
  "nbformat_minor": 0,
  "metadata": {
    "colab": {
      "name": "Multiplicative model timeseries.ipynb",
      "provenance": [],
      "collapsed_sections": [],
      "authorship_tag": "ABX9TyMrn5ib828OhMI7b+CFLX24",
      "include_colab_link": true
    },
    "kernelspec": {
      "name": "python3",
      "display_name": "Python 3"
    },
    "language_info": {
      "name": "python"
    }
  },
  "cells": [
    {
      "cell_type": "markdown",
      "metadata": {
        "id": "view-in-github",
        "colab_type": "text"
      },
      "source": [
        "<a href=\"https://colab.research.google.com/github/phuongnt3391/Timeseries/blob/main/Multiplicative_model_timeseries.ipynb\" target=\"_parent\"><img src=\"https://colab.research.google.com/assets/colab-badge.svg\" alt=\"Open In Colab\"/></a>"
      ]
    },
    {
      "cell_type": "code",
      "metadata": {
        "id": "MJlJQhmnlkUy"
      },
      "source": [
        "import numpy as np\n",
        "import pandas as pd\n",
        "import matplotlib.pyplot as plt\n",
        "import seaborn as sns"
      ],
      "execution_count": 79,
      "outputs": []
    },
    {
      "cell_type": "code",
      "metadata": {
        "id": "kpFkehbDlsLQ"
      },
      "source": [
        "df = pd.read_csv('sales_data.csv')"
      ],
      "execution_count": 80,
      "outputs": []
    },
    {
      "cell_type": "code",
      "metadata": {
        "colab": {
          "base_uri": "https://localhost:8080/",
          "height": 206
        },
        "id": "DOoorFuDltv2",
        "outputId": "55ee5bc8-bc4c-4e97-fcb5-7cf3a21372c4"
      },
      "source": [
        "df.head()"
      ],
      "execution_count": 81,
      "outputs": [
        {
          "output_type": "execute_result",
          "data": {
            "text/html": [
              "<div>\n",
              "<style scoped>\n",
              "    .dataframe tbody tr th:only-of-type {\n",
              "        vertical-align: middle;\n",
              "    }\n",
              "\n",
              "    .dataframe tbody tr th {\n",
              "        vertical-align: top;\n",
              "    }\n",
              "\n",
              "    .dataframe thead th {\n",
              "        text-align: right;\n",
              "    }\n",
              "</style>\n",
              "<table border=\"1\" class=\"dataframe\">\n",
              "  <thead>\n",
              "    <tr style=\"text-align: right;\">\n",
              "      <th></th>\n",
              "      <th>Years</th>\n",
              "      <th>Sales</th>\n",
              "    </tr>\n",
              "  </thead>\n",
              "  <tbody>\n",
              "    <tr>\n",
              "      <th>0</th>\n",
              "      <td>2001-01-01</td>\n",
              "      <td>139.7</td>\n",
              "    </tr>\n",
              "    <tr>\n",
              "      <th>1</th>\n",
              "      <td>2001-02-01</td>\n",
              "      <td>114.3</td>\n",
              "    </tr>\n",
              "    <tr>\n",
              "      <th>2</th>\n",
              "      <td>2001-03-01</td>\n",
              "      <td>101.6</td>\n",
              "    </tr>\n",
              "    <tr>\n",
              "      <th>3</th>\n",
              "      <td>2001-04-01</td>\n",
              "      <td>152.4</td>\n",
              "    </tr>\n",
              "    <tr>\n",
              "      <th>4</th>\n",
              "      <td>2001-05-01</td>\n",
              "      <td>215.9</td>\n",
              "    </tr>\n",
              "  </tbody>\n",
              "</table>\n",
              "</div>"
            ],
            "text/plain": [
              "        Years  Sales\n",
              "0  2001-01-01  139.7\n",
              "1  2001-02-01  114.3\n",
              "2  2001-03-01  101.6\n",
              "3  2001-04-01  152.4\n",
              "4  2001-05-01  215.9"
            ]
          },
          "metadata": {},
          "execution_count": 81
        }
      ]
    },
    {
      "cell_type": "code",
      "metadata": {
        "colab": {
          "base_uri": "https://localhost:8080/"
        },
        "id": "dc83ghL2mLeD",
        "outputId": "bc1873f2-43e1-43bf-c572-91cbb7927761"
      },
      "source": [
        "df.dtypes"
      ],
      "execution_count": 82,
      "outputs": [
        {
          "output_type": "execute_result",
          "data": {
            "text/plain": [
              "Years     object\n",
              "Sales    float64\n",
              "dtype: object"
            ]
          },
          "metadata": {},
          "execution_count": 82
        }
      ]
    },
    {
      "cell_type": "code",
      "metadata": {
        "id": "JvCJp9HomQg7"
      },
      "source": [
        "df['Years'] = pd.to_datetime(df['Years'])"
      ],
      "execution_count": 83,
      "outputs": []
    },
    {
      "cell_type": "code",
      "metadata": {
        "colab": {
          "base_uri": "https://localhost:8080/"
        },
        "id": "HHBiqIKZmba2",
        "outputId": "4452db1e-bb51-42f5-c36c-43f9edbb0ee0"
      },
      "source": [
        "df.dtypes"
      ],
      "execution_count": 84,
      "outputs": [
        {
          "output_type": "execute_result",
          "data": {
            "text/plain": [
              "Years    datetime64[ns]\n",
              "Sales           float64\n",
              "dtype: object"
            ]
          },
          "metadata": {},
          "execution_count": 84
        }
      ]
    },
    {
      "cell_type": "code",
      "metadata": {
        "id": "O4FJiCZ0qqJC"
      },
      "source": [
        "df['quarter'] = df['Years'].dt.quarter\n",
        "df['month_name'] = df['Years'].dt.month_name()"
      ],
      "execution_count": 85,
      "outputs": []
    },
    {
      "cell_type": "code",
      "metadata": {
        "colab": {
          "base_uri": "https://localhost:8080/",
          "height": 206
        },
        "id": "zafTkUkUq0IC",
        "outputId": "d9fe7ed2-6502-4654-a617-f7c69ad2b93b"
      },
      "source": [
        "df.head()"
      ],
      "execution_count": 86,
      "outputs": [
        {
          "output_type": "execute_result",
          "data": {
            "text/html": [
              "<div>\n",
              "<style scoped>\n",
              "    .dataframe tbody tr th:only-of-type {\n",
              "        vertical-align: middle;\n",
              "    }\n",
              "\n",
              "    .dataframe tbody tr th {\n",
              "        vertical-align: top;\n",
              "    }\n",
              "\n",
              "    .dataframe thead th {\n",
              "        text-align: right;\n",
              "    }\n",
              "</style>\n",
              "<table border=\"1\" class=\"dataframe\">\n",
              "  <thead>\n",
              "    <tr style=\"text-align: right;\">\n",
              "      <th></th>\n",
              "      <th>Years</th>\n",
              "      <th>Sales</th>\n",
              "      <th>quarter</th>\n",
              "      <th>month_name</th>\n",
              "    </tr>\n",
              "  </thead>\n",
              "  <tbody>\n",
              "    <tr>\n",
              "      <th>0</th>\n",
              "      <td>2001-01-01</td>\n",
              "      <td>139.7</td>\n",
              "      <td>1</td>\n",
              "      <td>January</td>\n",
              "    </tr>\n",
              "    <tr>\n",
              "      <th>1</th>\n",
              "      <td>2001-02-01</td>\n",
              "      <td>114.3</td>\n",
              "      <td>1</td>\n",
              "      <td>February</td>\n",
              "    </tr>\n",
              "    <tr>\n",
              "      <th>2</th>\n",
              "      <td>2001-03-01</td>\n",
              "      <td>101.6</td>\n",
              "      <td>1</td>\n",
              "      <td>March</td>\n",
              "    </tr>\n",
              "    <tr>\n",
              "      <th>3</th>\n",
              "      <td>2001-04-01</td>\n",
              "      <td>152.4</td>\n",
              "      <td>2</td>\n",
              "      <td>April</td>\n",
              "    </tr>\n",
              "    <tr>\n",
              "      <th>4</th>\n",
              "      <td>2001-05-01</td>\n",
              "      <td>215.9</td>\n",
              "      <td>2</td>\n",
              "      <td>May</td>\n",
              "    </tr>\n",
              "  </tbody>\n",
              "</table>\n",
              "</div>"
            ],
            "text/plain": [
              "       Years  Sales  quarter month_name\n",
              "0 2001-01-01  139.7        1    January\n",
              "1 2001-02-01  114.3        1   February\n",
              "2 2001-03-01  101.6        1      March\n",
              "3 2001-04-01  152.4        2      April\n",
              "4 2001-05-01  215.9        2        May"
            ]
          },
          "metadata": {},
          "execution_count": 86
        }
      ]
    },
    {
      "cell_type": "code",
      "metadata": {
        "id": "z6MMF1vsrRQZ"
      },
      "source": [
        "df['time'] = np.arange(1,73,1)"
      ],
      "execution_count": 87,
      "outputs": []
    },
    {
      "cell_type": "code",
      "metadata": {
        "id": "8kvyDXZOrIt2"
      },
      "source": [
        "df_train = df.head(n=48)\n",
        "df_test =df.loc[48:]"
      ],
      "execution_count": 88,
      "outputs": []
    },
    {
      "cell_type": "code",
      "metadata": {
        "colab": {
          "base_uri": "https://localhost:8080/"
        },
        "id": "szpu9FcErbf6",
        "outputId": "933c3534-d965-4d6a-85d1-85f09aec9ad1"
      },
      "source": [
        "df_train.shape, df_test.shape"
      ],
      "execution_count": 89,
      "outputs": [
        {
          "output_type": "execute_result",
          "data": {
            "text/plain": [
              "((48, 5), (24, 5))"
            ]
          },
          "metadata": {},
          "execution_count": 89
        }
      ]
    },
    {
      "cell_type": "markdown",
      "metadata": {
        "id": "1xVif3L8m76_"
      },
      "source": [
        "Trend model"
      ]
    },
    {
      "cell_type": "code",
      "metadata": {
        "colab": {
          "base_uri": "https://localhost:8080/"
        },
        "id": "2r2j4u6xn65v",
        "outputId": "148468b0-1370-4bb2-8495-1e4ac5d744c7"
      },
      "source": [
        "X_train = df_train[['time']].values\n",
        "y_train = df_train['Sales'].values\n",
        "X_train.shape, y_train.shape\n",
        "\n"
      ],
      "execution_count": 90,
      "outputs": [
        {
          "output_type": "execute_result",
          "data": {
            "text/plain": [
              "((48, 1), (48,))"
            ]
          },
          "metadata": {},
          "execution_count": 90
        }
      ]
    },
    {
      "cell_type": "code",
      "metadata": {
        "colab": {
          "base_uri": "https://localhost:8080/"
        },
        "id": "BC-0jnh3sJGC",
        "outputId": "017ed022-66e0-4417-9a7c-504fe54db113"
      },
      "source": [
        "X_test = df_test[['time']].values\n",
        "y_test = df_test['Sales'].values\n",
        "X_test.shape, y_test.shape\n",
        "\n"
      ],
      "execution_count": 91,
      "outputs": [
        {
          "output_type": "execute_result",
          "data": {
            "text/plain": [
              "((24, 1), (24,))"
            ]
          },
          "metadata": {},
          "execution_count": 91
        }
      ]
    },
    {
      "cell_type": "code",
      "metadata": {
        "colab": {
          "base_uri": "https://localhost:8080/"
        },
        "id": "D2WDOqYPm9ON",
        "outputId": "1ae6c4f0-897a-452c-f14c-c42eb67cb441"
      },
      "source": [
        "import sklearn\n",
        "from sklearn.linear_model import LinearRegression\n",
        "model = LinearRegression()\n",
        "model.fit(X_train,y_train)\n"
      ],
      "execution_count": 92,
      "outputs": [
        {
          "output_type": "execute_result",
          "data": {
            "text/plain": [
              "LinearRegression(copy_X=True, fit_intercept=True, n_jobs=None, normalize=False)"
            ]
          },
          "metadata": {},
          "execution_count": 92
        }
      ]
    },
    {
      "cell_type": "code",
      "metadata": {
        "id": "jSFUZh4jtEVP"
      },
      "source": [
        "y_fittedvalues= model.predict(X_train)"
      ],
      "execution_count": 93,
      "outputs": []
    },
    {
      "cell_type": "markdown",
      "metadata": {
        "id": "iDnQYE6SxOlv"
      },
      "source": [
        "Step 2: Take trend prediction (T)"
      ]
    },
    {
      "cell_type": "code",
      "metadata": {
        "colab": {
          "base_uri": "https://localhost:8080/"
        },
        "id": "r4WJ1jWMvPiO",
        "outputId": "c636599e-bfa7-4624-a6d3-9e252a2ae083"
      },
      "source": [
        "df_train['predicted_T'] = y_fittedvalues"
      ],
      "execution_count": 94,
      "outputs": [
        {
          "output_type": "stream",
          "name": "stderr",
          "text": [
            "/usr/local/lib/python3.7/dist-packages/ipykernel_launcher.py:1: SettingWithCopyWarning: \n",
            "A value is trying to be set on a copy of a slice from a DataFrame.\n",
            "Try using .loc[row_indexer,col_indexer] = value instead\n",
            "\n",
            "See the caveats in the documentation: https://pandas.pydata.org/pandas-docs/stable/user_guide/indexing.html#returning-a-view-versus-a-copy\n",
            "  \"\"\"Entry point for launching an IPython kernel.\n"
          ]
        }
      ]
    },
    {
      "cell_type": "code",
      "metadata": {
        "colab": {
          "base_uri": "https://localhost:8080/",
          "height": 206
        },
        "id": "vny6-hGZvcvS",
        "outputId": "b0ff0ae6-f972-45f1-edc0-31658f3676a3"
      },
      "source": [
        "df_train.head()"
      ],
      "execution_count": 95,
      "outputs": [
        {
          "output_type": "execute_result",
          "data": {
            "text/html": [
              "<div>\n",
              "<style scoped>\n",
              "    .dataframe tbody tr th:only-of-type {\n",
              "        vertical-align: middle;\n",
              "    }\n",
              "\n",
              "    .dataframe tbody tr th {\n",
              "        vertical-align: top;\n",
              "    }\n",
              "\n",
              "    .dataframe thead th {\n",
              "        text-align: right;\n",
              "    }\n",
              "</style>\n",
              "<table border=\"1\" class=\"dataframe\">\n",
              "  <thead>\n",
              "    <tr style=\"text-align: right;\">\n",
              "      <th></th>\n",
              "      <th>Years</th>\n",
              "      <th>Sales</th>\n",
              "      <th>quarter</th>\n",
              "      <th>month_name</th>\n",
              "      <th>time</th>\n",
              "      <th>predicted_T</th>\n",
              "    </tr>\n",
              "  </thead>\n",
              "  <tbody>\n",
              "    <tr>\n",
              "      <th>0</th>\n",
              "      <td>2001-01-01</td>\n",
              "      <td>139.7</td>\n",
              "      <td>1</td>\n",
              "      <td>January</td>\n",
              "      <td>1</td>\n",
              "      <td>138.671939</td>\n",
              "    </tr>\n",
              "    <tr>\n",
              "      <th>1</th>\n",
              "      <td>2001-02-01</td>\n",
              "      <td>114.3</td>\n",
              "      <td>1</td>\n",
              "      <td>February</td>\n",
              "      <td>2</td>\n",
              "      <td>143.082175</td>\n",
              "    </tr>\n",
              "    <tr>\n",
              "      <th>2</th>\n",
              "      <td>2001-03-01</td>\n",
              "      <td>101.6</td>\n",
              "      <td>1</td>\n",
              "      <td>March</td>\n",
              "      <td>3</td>\n",
              "      <td>147.492412</td>\n",
              "    </tr>\n",
              "    <tr>\n",
              "      <th>3</th>\n",
              "      <td>2001-04-01</td>\n",
              "      <td>152.4</td>\n",
              "      <td>2</td>\n",
              "      <td>April</td>\n",
              "      <td>4</td>\n",
              "      <td>151.902649</td>\n",
              "    </tr>\n",
              "    <tr>\n",
              "      <th>4</th>\n",
              "      <td>2001-05-01</td>\n",
              "      <td>215.9</td>\n",
              "      <td>2</td>\n",
              "      <td>May</td>\n",
              "      <td>5</td>\n",
              "      <td>156.312885</td>\n",
              "    </tr>\n",
              "  </tbody>\n",
              "</table>\n",
              "</div>"
            ],
            "text/plain": [
              "       Years  Sales  quarter month_name  time  predicted_T\n",
              "0 2001-01-01  139.7        1    January     1   138.671939\n",
              "1 2001-02-01  114.3        1   February     2   143.082175\n",
              "2 2001-03-01  101.6        1      March     3   147.492412\n",
              "3 2001-04-01  152.4        2      April     4   151.902649\n",
              "4 2001-05-01  215.9        2        May     5   156.312885"
            ]
          },
          "metadata": {},
          "execution_count": 95
        }
      ]
    },
    {
      "cell_type": "markdown",
      "metadata": {
        "id": "r92iqUb1xi_s"
      },
      "source": [
        "Step 3: Compute Deviation values\n",
        "   SI = TSI / T"
      ]
    },
    {
      "cell_type": "code",
      "metadata": {
        "colab": {
          "base_uri": "https://localhost:8080/",
          "height": 787
        },
        "id": "e9WAX-Xixl03",
        "outputId": "a53cfdd2-40dc-4599-a212-d082f4fb267b"
      },
      "source": [
        "df_train['SI'] = df_train['Sales'] / df_train['predicted_T']\n",
        "df_train.head(20)"
      ],
      "execution_count": 96,
      "outputs": [
        {
          "output_type": "stream",
          "name": "stderr",
          "text": [
            "/usr/local/lib/python3.7/dist-packages/ipykernel_launcher.py:1: SettingWithCopyWarning: \n",
            "A value is trying to be set on a copy of a slice from a DataFrame.\n",
            "Try using .loc[row_indexer,col_indexer] = value instead\n",
            "\n",
            "See the caveats in the documentation: https://pandas.pydata.org/pandas-docs/stable/user_guide/indexing.html#returning-a-view-versus-a-copy\n",
            "  \"\"\"Entry point for launching an IPython kernel.\n"
          ]
        },
        {
          "output_type": "execute_result",
          "data": {
            "text/html": [
              "<div>\n",
              "<style scoped>\n",
              "    .dataframe tbody tr th:only-of-type {\n",
              "        vertical-align: middle;\n",
              "    }\n",
              "\n",
              "    .dataframe tbody tr th {\n",
              "        vertical-align: top;\n",
              "    }\n",
              "\n",
              "    .dataframe thead th {\n",
              "        text-align: right;\n",
              "    }\n",
              "</style>\n",
              "<table border=\"1\" class=\"dataframe\">\n",
              "  <thead>\n",
              "    <tr style=\"text-align: right;\">\n",
              "      <th></th>\n",
              "      <th>Years</th>\n",
              "      <th>Sales</th>\n",
              "      <th>quarter</th>\n",
              "      <th>month_name</th>\n",
              "      <th>time</th>\n",
              "      <th>predicted_T</th>\n",
              "      <th>SI</th>\n",
              "    </tr>\n",
              "  </thead>\n",
              "  <tbody>\n",
              "    <tr>\n",
              "      <th>0</th>\n",
              "      <td>2001-01-01</td>\n",
              "      <td>139.7</td>\n",
              "      <td>1</td>\n",
              "      <td>January</td>\n",
              "      <td>1</td>\n",
              "      <td>138.671939</td>\n",
              "      <td>1.007414</td>\n",
              "    </tr>\n",
              "    <tr>\n",
              "      <th>1</th>\n",
              "      <td>2001-02-01</td>\n",
              "      <td>114.3</td>\n",
              "      <td>1</td>\n",
              "      <td>February</td>\n",
              "      <td>2</td>\n",
              "      <td>143.082175</td>\n",
              "      <td>0.798842</td>\n",
              "    </tr>\n",
              "    <tr>\n",
              "      <th>2</th>\n",
              "      <td>2001-03-01</td>\n",
              "      <td>101.6</td>\n",
              "      <td>1</td>\n",
              "      <td>March</td>\n",
              "      <td>3</td>\n",
              "      <td>147.492412</td>\n",
              "      <td>0.688849</td>\n",
              "    </tr>\n",
              "    <tr>\n",
              "      <th>3</th>\n",
              "      <td>2001-04-01</td>\n",
              "      <td>152.4</td>\n",
              "      <td>2</td>\n",
              "      <td>April</td>\n",
              "      <td>4</td>\n",
              "      <td>151.902649</td>\n",
              "      <td>1.003274</td>\n",
              "    </tr>\n",
              "    <tr>\n",
              "      <th>4</th>\n",
              "      <td>2001-05-01</td>\n",
              "      <td>215.9</td>\n",
              "      <td>2</td>\n",
              "      <td>May</td>\n",
              "      <td>5</td>\n",
              "      <td>156.312885</td>\n",
              "      <td>1.381204</td>\n",
              "    </tr>\n",
              "    <tr>\n",
              "      <th>5</th>\n",
              "      <td>2001-06-01</td>\n",
              "      <td>228.6</td>\n",
              "      <td>2</td>\n",
              "      <td>June</td>\n",
              "      <td>6</td>\n",
              "      <td>160.723122</td>\n",
              "      <td>1.422322</td>\n",
              "    </tr>\n",
              "    <tr>\n",
              "      <th>6</th>\n",
              "      <td>2001-07-01</td>\n",
              "      <td>215.9</td>\n",
              "      <td>3</td>\n",
              "      <td>July</td>\n",
              "      <td>7</td>\n",
              "      <td>165.133359</td>\n",
              "      <td>1.307428</td>\n",
              "    </tr>\n",
              "    <tr>\n",
              "      <th>7</th>\n",
              "      <td>2001-08-01</td>\n",
              "      <td>190.5</td>\n",
              "      <td>3</td>\n",
              "      <td>August</td>\n",
              "      <td>8</td>\n",
              "      <td>169.543595</td>\n",
              "      <td>1.123605</td>\n",
              "    </tr>\n",
              "    <tr>\n",
              "      <th>8</th>\n",
              "      <td>2001-09-01</td>\n",
              "      <td>177.8</td>\n",
              "      <td>3</td>\n",
              "      <td>September</td>\n",
              "      <td>9</td>\n",
              "      <td>173.953832</td>\n",
              "      <td>1.022110</td>\n",
              "    </tr>\n",
              "    <tr>\n",
              "      <th>9</th>\n",
              "      <td>2001-10-01</td>\n",
              "      <td>139.7</td>\n",
              "      <td>4</td>\n",
              "      <td>October</td>\n",
              "      <td>10</td>\n",
              "      <td>178.364069</td>\n",
              "      <td>0.783229</td>\n",
              "    </tr>\n",
              "    <tr>\n",
              "      <th>10</th>\n",
              "      <td>2001-11-01</td>\n",
              "      <td>139.7</td>\n",
              "      <td>4</td>\n",
              "      <td>November</td>\n",
              "      <td>11</td>\n",
              "      <td>182.774305</td>\n",
              "      <td>0.764331</td>\n",
              "    </tr>\n",
              "    <tr>\n",
              "      <th>11</th>\n",
              "      <td>2001-12-01</td>\n",
              "      <td>152.4</td>\n",
              "      <td>4</td>\n",
              "      <td>December</td>\n",
              "      <td>12</td>\n",
              "      <td>187.184542</td>\n",
              "      <td>0.814170</td>\n",
              "    </tr>\n",
              "    <tr>\n",
              "      <th>12</th>\n",
              "      <td>2002-01-01</td>\n",
              "      <td>165.1</td>\n",
              "      <td>1</td>\n",
              "      <td>January</td>\n",
              "      <td>13</td>\n",
              "      <td>191.594779</td>\n",
              "      <td>0.861715</td>\n",
              "    </tr>\n",
              "    <tr>\n",
              "      <th>13</th>\n",
              "      <td>2002-02-01</td>\n",
              "      <td>177.8</td>\n",
              "      <td>1</td>\n",
              "      <td>February</td>\n",
              "      <td>14</td>\n",
              "      <td>196.005015</td>\n",
              "      <td>0.907120</td>\n",
              "    </tr>\n",
              "    <tr>\n",
              "      <th>14</th>\n",
              "      <td>2002-03-01</td>\n",
              "      <td>177.8</td>\n",
              "      <td>1</td>\n",
              "      <td>March</td>\n",
              "      <td>15</td>\n",
              "      <td>200.415252</td>\n",
              "      <td>0.887158</td>\n",
              "    </tr>\n",
              "    <tr>\n",
              "      <th>15</th>\n",
              "      <td>2002-04-01</td>\n",
              "      <td>203.2</td>\n",
              "      <td>2</td>\n",
              "      <td>April</td>\n",
              "      <td>16</td>\n",
              "      <td>204.825488</td>\n",
              "      <td>0.992064</td>\n",
              "    </tr>\n",
              "    <tr>\n",
              "      <th>16</th>\n",
              "      <td>2002-05-01</td>\n",
              "      <td>241.3</td>\n",
              "      <td>2</td>\n",
              "      <td>May</td>\n",
              "      <td>17</td>\n",
              "      <td>209.235725</td>\n",
              "      <td>1.153245</td>\n",
              "    </tr>\n",
              "    <tr>\n",
              "      <th>17</th>\n",
              "      <td>2002-06-01</td>\n",
              "      <td>279.1</td>\n",
              "      <td>2</td>\n",
              "      <td>June</td>\n",
              "      <td>18</td>\n",
              "      <td>213.645962</td>\n",
              "      <td>1.306367</td>\n",
              "    </tr>\n",
              "    <tr>\n",
              "      <th>18</th>\n",
              "      <td>2002-07-01</td>\n",
              "      <td>292.1</td>\n",
              "      <td>3</td>\n",
              "      <td>July</td>\n",
              "      <td>19</td>\n",
              "      <td>218.056198</td>\n",
              "      <td>1.339563</td>\n",
              "    </tr>\n",
              "    <tr>\n",
              "      <th>19</th>\n",
              "      <td>2002-08-01</td>\n",
              "      <td>317.5</td>\n",
              "      <td>3</td>\n",
              "      <td>August</td>\n",
              "      <td>20</td>\n",
              "      <td>222.466435</td>\n",
              "      <td>1.427182</td>\n",
              "    </tr>\n",
              "  </tbody>\n",
              "</table>\n",
              "</div>"
            ],
            "text/plain": [
              "        Years  Sales  quarter month_name  time  predicted_T        SI\n",
              "0  2001-01-01  139.7        1    January     1   138.671939  1.007414\n",
              "1  2001-02-01  114.3        1   February     2   143.082175  0.798842\n",
              "2  2001-03-01  101.6        1      March     3   147.492412  0.688849\n",
              "3  2001-04-01  152.4        2      April     4   151.902649  1.003274\n",
              "4  2001-05-01  215.9        2        May     5   156.312885  1.381204\n",
              "5  2001-06-01  228.6        2       June     6   160.723122  1.422322\n",
              "6  2001-07-01  215.9        3       July     7   165.133359  1.307428\n",
              "7  2001-08-01  190.5        3     August     8   169.543595  1.123605\n",
              "8  2001-09-01  177.8        3  September     9   173.953832  1.022110\n",
              "9  2001-10-01  139.7        4    October    10   178.364069  0.783229\n",
              "10 2001-11-01  139.7        4   November    11   182.774305  0.764331\n",
              "11 2001-12-01  152.4        4   December    12   187.184542  0.814170\n",
              "12 2002-01-01  165.1        1    January    13   191.594779  0.861715\n",
              "13 2002-02-01  177.8        1   February    14   196.005015  0.907120\n",
              "14 2002-03-01  177.8        1      March    15   200.415252  0.887158\n",
              "15 2002-04-01  203.2        2      April    16   204.825488  0.992064\n",
              "16 2002-05-01  241.3        2        May    17   209.235725  1.153245\n",
              "17 2002-06-01  279.1        2       June    18   213.645962  1.306367\n",
              "18 2002-07-01  292.1        3       July    19   218.056198  1.339563\n",
              "19 2002-08-01  317.5        3     August    20   222.466435  1.427182"
            ]
          },
          "metadata": {},
          "execution_count": 96
        }
      ]
    },
    {
      "cell_type": "markdown",
      "metadata": {
        "id": "uTewln9z0yXl"
      },
      "source": [
        "Step 4: Take the average seasonality values"
      ]
    },
    {
      "cell_type": "code",
      "metadata": {
        "colab": {
          "base_uri": "https://localhost:8080/",
          "height": 457
        },
        "id": "Roix38md1aIK",
        "outputId": "a633b9b4-1fc3-4c30-9c38-d4ca64e482d1"
      },
      "source": [
        "deviation_season = df_train[['month_name','SI']].groupby(by='month_name').mean().rename(columns={'SI':'correction_factor'})\n",
        "deviation_season"
      ],
      "execution_count": 97,
      "outputs": [
        {
          "output_type": "execute_result",
          "data": {
            "text/html": [
              "<div>\n",
              "<style scoped>\n",
              "    .dataframe tbody tr th:only-of-type {\n",
              "        vertical-align: middle;\n",
              "    }\n",
              "\n",
              "    .dataframe tbody tr th {\n",
              "        vertical-align: top;\n",
              "    }\n",
              "\n",
              "    .dataframe thead th {\n",
              "        text-align: right;\n",
              "    }\n",
              "</style>\n",
              "<table border=\"1\" class=\"dataframe\">\n",
              "  <thead>\n",
              "    <tr style=\"text-align: right;\">\n",
              "      <th></th>\n",
              "      <th>correction_factor</th>\n",
              "    </tr>\n",
              "    <tr>\n",
              "      <th>month_name</th>\n",
              "      <th></th>\n",
              "    </tr>\n",
              "  </thead>\n",
              "  <tbody>\n",
              "    <tr>\n",
              "      <th>April</th>\n",
              "      <td>1.045770</td>\n",
              "    </tr>\n",
              "    <tr>\n",
              "      <th>August</th>\n",
              "      <td>1.289315</td>\n",
              "    </tr>\n",
              "    <tr>\n",
              "      <th>December</th>\n",
              "      <td>0.773112</td>\n",
              "    </tr>\n",
              "    <tr>\n",
              "      <th>February</th>\n",
              "      <td>0.840934</td>\n",
              "    </tr>\n",
              "    <tr>\n",
              "      <th>January</th>\n",
              "      <td>0.841208</td>\n",
              "    </tr>\n",
              "    <tr>\n",
              "      <th>July</th>\n",
              "      <td>1.344616</td>\n",
              "    </tr>\n",
              "    <tr>\n",
              "      <th>June</th>\n",
              "      <td>1.309853</td>\n",
              "    </tr>\n",
              "    <tr>\n",
              "      <th>March</th>\n",
              "      <td>0.804644</td>\n",
              "    </tr>\n",
              "    <tr>\n",
              "      <th>May</th>\n",
              "      <td>1.218536</td>\n",
              "    </tr>\n",
              "    <tr>\n",
              "      <th>November</th>\n",
              "      <td>0.776317</td>\n",
              "    </tr>\n",
              "    <tr>\n",
              "      <th>October</th>\n",
              "      <td>0.822765</td>\n",
              "    </tr>\n",
              "    <tr>\n",
              "      <th>September</th>\n",
              "      <td>0.943143</td>\n",
              "    </tr>\n",
              "  </tbody>\n",
              "</table>\n",
              "</div>"
            ],
            "text/plain": [
              "            correction_factor\n",
              "month_name                   \n",
              "April                1.045770\n",
              "August               1.289315\n",
              "December             0.773112\n",
              "February             0.840934\n",
              "January              0.841208\n",
              "July                 1.344616\n",
              "June                 1.309853\n",
              "March                0.804644\n",
              "May                  1.218536\n",
              "November             0.776317\n",
              "October              0.822765\n",
              "September            0.943143"
            ]
          },
          "metadata": {},
          "execution_count": 97
        }
      ]
    },
    {
      "cell_type": "markdown",
      "metadata": {
        "id": "_czlug573aSC"
      },
      "source": [
        "Step 5: Computing the fitted values"
      ]
    },
    {
      "cell_type": "code",
      "metadata": {
        "colab": {
          "base_uri": "https://localhost:8080/",
          "height": 206
        },
        "id": "Hceq56eC3dQ1",
        "outputId": "108496b0-edc8-478e-fcfe-c1de6b3ce983"
      },
      "source": [
        "df_train1 = df_train.merge(deviation_season, on ='month_name')\n",
        "df_train1.head()"
      ],
      "execution_count": 98,
      "outputs": [
        {
          "output_type": "execute_result",
          "data": {
            "text/html": [
              "<div>\n",
              "<style scoped>\n",
              "    .dataframe tbody tr th:only-of-type {\n",
              "        vertical-align: middle;\n",
              "    }\n",
              "\n",
              "    .dataframe tbody tr th {\n",
              "        vertical-align: top;\n",
              "    }\n",
              "\n",
              "    .dataframe thead th {\n",
              "        text-align: right;\n",
              "    }\n",
              "</style>\n",
              "<table border=\"1\" class=\"dataframe\">\n",
              "  <thead>\n",
              "    <tr style=\"text-align: right;\">\n",
              "      <th></th>\n",
              "      <th>Years</th>\n",
              "      <th>Sales</th>\n",
              "      <th>quarter</th>\n",
              "      <th>month_name</th>\n",
              "      <th>time</th>\n",
              "      <th>predicted_T</th>\n",
              "      <th>SI</th>\n",
              "      <th>correction_factor</th>\n",
              "    </tr>\n",
              "  </thead>\n",
              "  <tbody>\n",
              "    <tr>\n",
              "      <th>0</th>\n",
              "      <td>2001-01-01</td>\n",
              "      <td>139.7</td>\n",
              "      <td>1</td>\n",
              "      <td>January</td>\n",
              "      <td>1</td>\n",
              "      <td>138.671939</td>\n",
              "      <td>1.007414</td>\n",
              "      <td>0.841208</td>\n",
              "    </tr>\n",
              "    <tr>\n",
              "      <th>1</th>\n",
              "      <td>2002-01-01</td>\n",
              "      <td>165.1</td>\n",
              "      <td>1</td>\n",
              "      <td>January</td>\n",
              "      <td>13</td>\n",
              "      <td>191.594779</td>\n",
              "      <td>0.861715</td>\n",
              "      <td>0.841208</td>\n",
              "    </tr>\n",
              "    <tr>\n",
              "      <th>2</th>\n",
              "      <td>2003-01-01</td>\n",
              "      <td>177.8</td>\n",
              "      <td>1</td>\n",
              "      <td>January</td>\n",
              "      <td>25</td>\n",
              "      <td>244.517618</td>\n",
              "      <td>0.727146</td>\n",
              "      <td>0.841208</td>\n",
              "    </tr>\n",
              "    <tr>\n",
              "      <th>3</th>\n",
              "      <td>2004-01-01</td>\n",
              "      <td>228.6</td>\n",
              "      <td>1</td>\n",
              "      <td>January</td>\n",
              "      <td>37</td>\n",
              "      <td>297.440458</td>\n",
              "      <td>0.768557</td>\n",
              "      <td>0.841208</td>\n",
              "    </tr>\n",
              "    <tr>\n",
              "      <th>4</th>\n",
              "      <td>2001-02-01</td>\n",
              "      <td>114.3</td>\n",
              "      <td>1</td>\n",
              "      <td>February</td>\n",
              "      <td>2</td>\n",
              "      <td>143.082175</td>\n",
              "      <td>0.798842</td>\n",
              "      <td>0.840934</td>\n",
              "    </tr>\n",
              "  </tbody>\n",
              "</table>\n",
              "</div>"
            ],
            "text/plain": [
              "       Years  Sales  quarter  ... predicted_T        SI  correction_factor\n",
              "0 2001-01-01  139.7        1  ...  138.671939  1.007414           0.841208\n",
              "1 2002-01-01  165.1        1  ...  191.594779  0.861715           0.841208\n",
              "2 2003-01-01  177.8        1  ...  244.517618  0.727146           0.841208\n",
              "3 2004-01-01  228.6        1  ...  297.440458  0.768557           0.841208\n",
              "4 2001-02-01  114.3        1  ...  143.082175  0.798842           0.840934\n",
              "\n",
              "[5 rows x 8 columns]"
            ]
          },
          "metadata": {},
          "execution_count": 98
        }
      ]
    },
    {
      "cell_type": "code",
      "metadata": {
        "id": "kHTDEcU448iJ"
      },
      "source": [
        "df_train1['Fitted_values'] = df_train1['predicted_T'] * df_train1['correction_factor']"
      ],
      "execution_count": 99,
      "outputs": []
    },
    {
      "cell_type": "code",
      "metadata": {
        "colab": {
          "base_uri": "https://localhost:8080/",
          "height": 206
        },
        "id": "oIGi5CIs5MPN",
        "outputId": "0d1e45e8-8717-4be5-e1f3-37021dcfb7b6"
      },
      "source": [
        "df_train1.head()"
      ],
      "execution_count": 100,
      "outputs": [
        {
          "output_type": "execute_result",
          "data": {
            "text/html": [
              "<div>\n",
              "<style scoped>\n",
              "    .dataframe tbody tr th:only-of-type {\n",
              "        vertical-align: middle;\n",
              "    }\n",
              "\n",
              "    .dataframe tbody tr th {\n",
              "        vertical-align: top;\n",
              "    }\n",
              "\n",
              "    .dataframe thead th {\n",
              "        text-align: right;\n",
              "    }\n",
              "</style>\n",
              "<table border=\"1\" class=\"dataframe\">\n",
              "  <thead>\n",
              "    <tr style=\"text-align: right;\">\n",
              "      <th></th>\n",
              "      <th>Years</th>\n",
              "      <th>Sales</th>\n",
              "      <th>quarter</th>\n",
              "      <th>month_name</th>\n",
              "      <th>time</th>\n",
              "      <th>predicted_T</th>\n",
              "      <th>SI</th>\n",
              "      <th>correction_factor</th>\n",
              "      <th>Fitted_values</th>\n",
              "    </tr>\n",
              "  </thead>\n",
              "  <tbody>\n",
              "    <tr>\n",
              "      <th>0</th>\n",
              "      <td>2001-01-01</td>\n",
              "      <td>139.7</td>\n",
              "      <td>1</td>\n",
              "      <td>January</td>\n",
              "      <td>1</td>\n",
              "      <td>138.671939</td>\n",
              "      <td>1.007414</td>\n",
              "      <td>0.841208</td>\n",
              "      <td>116.651919</td>\n",
              "    </tr>\n",
              "    <tr>\n",
              "      <th>1</th>\n",
              "      <td>2002-01-01</td>\n",
              "      <td>165.1</td>\n",
              "      <td>1</td>\n",
              "      <td>January</td>\n",
              "      <td>13</td>\n",
              "      <td>191.594779</td>\n",
              "      <td>0.861715</td>\n",
              "      <td>0.841208</td>\n",
              "      <td>161.171026</td>\n",
              "    </tr>\n",
              "    <tr>\n",
              "      <th>2</th>\n",
              "      <td>2003-01-01</td>\n",
              "      <td>177.8</td>\n",
              "      <td>1</td>\n",
              "      <td>January</td>\n",
              "      <td>25</td>\n",
              "      <td>244.517618</td>\n",
              "      <td>0.727146</td>\n",
              "      <td>0.841208</td>\n",
              "      <td>205.690132</td>\n",
              "    </tr>\n",
              "    <tr>\n",
              "      <th>3</th>\n",
              "      <td>2004-01-01</td>\n",
              "      <td>228.6</td>\n",
              "      <td>1</td>\n",
              "      <td>January</td>\n",
              "      <td>37</td>\n",
              "      <td>297.440458</td>\n",
              "      <td>0.768557</td>\n",
              "      <td>0.841208</td>\n",
              "      <td>250.209239</td>\n",
              "    </tr>\n",
              "    <tr>\n",
              "      <th>4</th>\n",
              "      <td>2001-02-01</td>\n",
              "      <td>114.3</td>\n",
              "      <td>1</td>\n",
              "      <td>February</td>\n",
              "      <td>2</td>\n",
              "      <td>143.082175</td>\n",
              "      <td>0.798842</td>\n",
              "      <td>0.840934</td>\n",
              "      <td>120.322726</td>\n",
              "    </tr>\n",
              "  </tbody>\n",
              "</table>\n",
              "</div>"
            ],
            "text/plain": [
              "       Years  Sales  quarter  ...        SI  correction_factor  Fitted_values\n",
              "0 2001-01-01  139.7        1  ...  1.007414           0.841208     116.651919\n",
              "1 2002-01-01  165.1        1  ...  0.861715           0.841208     161.171026\n",
              "2 2003-01-01  177.8        1  ...  0.727146           0.841208     205.690132\n",
              "3 2004-01-01  228.6        1  ...  0.768557           0.841208     250.209239\n",
              "4 2001-02-01  114.3        1  ...  0.798842           0.840934     120.322726\n",
              "\n",
              "[5 rows x 9 columns]"
            ]
          },
          "metadata": {},
          "execution_count": 100
        }
      ]
    },
    {
      "cell_type": "markdown",
      "metadata": {
        "id": "sQg7gqBM5q8U"
      },
      "source": [
        "Forecasted data"
      ]
    },
    {
      "cell_type": "code",
      "metadata": {
        "colab": {
          "base_uri": "https://localhost:8080/",
          "height": 316
        },
        "id": "qCL7NbJB5qQl",
        "outputId": "dc4f683c-a0ed-41c0-d613-a092ca3c6834"
      },
      "source": [
        "ftrend = model.predict(X_test) \n",
        "df_test['forecasted trend'] = ftrend\n",
        "df_test.head()"
      ],
      "execution_count": 103,
      "outputs": [
        {
          "output_type": "stream",
          "name": "stderr",
          "text": [
            "/usr/local/lib/python3.7/dist-packages/ipykernel_launcher.py:2: SettingWithCopyWarning: \n",
            "A value is trying to be set on a copy of a slice from a DataFrame.\n",
            "Try using .loc[row_indexer,col_indexer] = value instead\n",
            "\n",
            "See the caveats in the documentation: https://pandas.pydata.org/pandas-docs/stable/user_guide/indexing.html#returning-a-view-versus-a-copy\n",
            "  \n"
          ]
        },
        {
          "output_type": "execute_result",
          "data": {
            "text/html": [
              "<div>\n",
              "<style scoped>\n",
              "    .dataframe tbody tr th:only-of-type {\n",
              "        vertical-align: middle;\n",
              "    }\n",
              "\n",
              "    .dataframe tbody tr th {\n",
              "        vertical-align: top;\n",
              "    }\n",
              "\n",
              "    .dataframe thead th {\n",
              "        text-align: right;\n",
              "    }\n",
              "</style>\n",
              "<table border=\"1\" class=\"dataframe\">\n",
              "  <thead>\n",
              "    <tr style=\"text-align: right;\">\n",
              "      <th></th>\n",
              "      <th>Years</th>\n",
              "      <th>Sales</th>\n",
              "      <th>quarter</th>\n",
              "      <th>month_name</th>\n",
              "      <th>time</th>\n",
              "      <th>forecasted trend</th>\n",
              "    </tr>\n",
              "  </thead>\n",
              "  <tbody>\n",
              "    <tr>\n",
              "      <th>48</th>\n",
              "      <td>2005-01-01</td>\n",
              "      <td>266.7</td>\n",
              "      <td>1</td>\n",
              "      <td>January</td>\n",
              "      <td>49</td>\n",
              "      <td>350.363298</td>\n",
              "    </tr>\n",
              "    <tr>\n",
              "      <th>49</th>\n",
              "      <td>2005-02-01</td>\n",
              "      <td>317.5</td>\n",
              "      <td>1</td>\n",
              "      <td>February</td>\n",
              "      <td>50</td>\n",
              "      <td>354.773535</td>\n",
              "    </tr>\n",
              "    <tr>\n",
              "      <th>50</th>\n",
              "      <td>2005-03-01</td>\n",
              "      <td>368.3</td>\n",
              "      <td>1</td>\n",
              "      <td>March</td>\n",
              "      <td>51</td>\n",
              "      <td>359.183771</td>\n",
              "    </tr>\n",
              "    <tr>\n",
              "      <th>51</th>\n",
              "      <td>2005-04-01</td>\n",
              "      <td>431.8</td>\n",
              "      <td>2</td>\n",
              "      <td>April</td>\n",
              "      <td>52</td>\n",
              "      <td>363.594008</td>\n",
              "    </tr>\n",
              "    <tr>\n",
              "      <th>52</th>\n",
              "      <td>2005-05-01</td>\n",
              "      <td>457.2</td>\n",
              "      <td>2</td>\n",
              "      <td>May</td>\n",
              "      <td>53</td>\n",
              "      <td>368.004244</td>\n",
              "    </tr>\n",
              "  </tbody>\n",
              "</table>\n",
              "</div>"
            ],
            "text/plain": [
              "        Years  Sales  quarter month_name  time  forecasted trend\n",
              "48 2005-01-01  266.7        1    January    49        350.363298\n",
              "49 2005-02-01  317.5        1   February    50        354.773535\n",
              "50 2005-03-01  368.3        1      March    51        359.183771\n",
              "51 2005-04-01  431.8        2      April    52        363.594008\n",
              "52 2005-05-01  457.2        2        May    53        368.004244"
            ]
          },
          "metadata": {},
          "execution_count": 103
        }
      ]
    },
    {
      "cell_type": "code",
      "metadata": {
        "colab": {
          "base_uri": "https://localhost:8080/",
          "height": 206
        },
        "id": "UgNXB_Jx6XPk",
        "outputId": "90144ad3-3ce4-4867-85f0-97ae94fc55a8"
      },
      "source": [
        "df_test1 = df_test.merge(deviation_season, on ='month_name')\n",
        "df_test1.head()"
      ],
      "execution_count": 111,
      "outputs": [
        {
          "output_type": "execute_result",
          "data": {
            "text/html": [
              "<div>\n",
              "<style scoped>\n",
              "    .dataframe tbody tr th:only-of-type {\n",
              "        vertical-align: middle;\n",
              "    }\n",
              "\n",
              "    .dataframe tbody tr th {\n",
              "        vertical-align: top;\n",
              "    }\n",
              "\n",
              "    .dataframe thead th {\n",
              "        text-align: right;\n",
              "    }\n",
              "</style>\n",
              "<table border=\"1\" class=\"dataframe\">\n",
              "  <thead>\n",
              "    <tr style=\"text-align: right;\">\n",
              "      <th></th>\n",
              "      <th>Years</th>\n",
              "      <th>Sales</th>\n",
              "      <th>quarter</th>\n",
              "      <th>month_name</th>\n",
              "      <th>time</th>\n",
              "      <th>forecasted trend</th>\n",
              "      <th>correction_factor</th>\n",
              "    </tr>\n",
              "  </thead>\n",
              "  <tbody>\n",
              "    <tr>\n",
              "      <th>0</th>\n",
              "      <td>2005-01-01</td>\n",
              "      <td>266.7</td>\n",
              "      <td>1</td>\n",
              "      <td>January</td>\n",
              "      <td>49</td>\n",
              "      <td>350.363298</td>\n",
              "      <td>0.841208</td>\n",
              "    </tr>\n",
              "    <tr>\n",
              "      <th>1</th>\n",
              "      <td>2006-01-01</td>\n",
              "      <td>431.8</td>\n",
              "      <td>1</td>\n",
              "      <td>January</td>\n",
              "      <td>61</td>\n",
              "      <td>403.286138</td>\n",
              "      <td>0.841208</td>\n",
              "    </tr>\n",
              "    <tr>\n",
              "      <th>2</th>\n",
              "      <td>2005-02-01</td>\n",
              "      <td>317.5</td>\n",
              "      <td>1</td>\n",
              "      <td>February</td>\n",
              "      <td>50</td>\n",
              "      <td>354.773535</td>\n",
              "      <td>0.840934</td>\n",
              "    </tr>\n",
              "    <tr>\n",
              "      <th>3</th>\n",
              "      <td>2006-02-01</td>\n",
              "      <td>457.2</td>\n",
              "      <td>1</td>\n",
              "      <td>February</td>\n",
              "      <td>62</td>\n",
              "      <td>407.696374</td>\n",
              "      <td>0.840934</td>\n",
              "    </tr>\n",
              "    <tr>\n",
              "      <th>4</th>\n",
              "      <td>2005-03-01</td>\n",
              "      <td>368.3</td>\n",
              "      <td>1</td>\n",
              "      <td>March</td>\n",
              "      <td>51</td>\n",
              "      <td>359.183771</td>\n",
              "      <td>0.804644</td>\n",
              "    </tr>\n",
              "  </tbody>\n",
              "</table>\n",
              "</div>"
            ],
            "text/plain": [
              "       Years  Sales  quarter  ... time  forecasted trend  correction_factor\n",
              "0 2005-01-01  266.7        1  ...   49        350.363298           0.841208\n",
              "1 2006-01-01  431.8        1  ...   61        403.286138           0.841208\n",
              "2 2005-02-01  317.5        1  ...   50        354.773535           0.840934\n",
              "3 2006-02-01  457.2        1  ...   62        407.696374           0.840934\n",
              "4 2005-03-01  368.3        1  ...   51        359.183771           0.804644\n",
              "\n",
              "[5 rows x 7 columns]"
            ]
          },
          "metadata": {},
          "execution_count": 111
        }
      ]
    },
    {
      "cell_type": "code",
      "metadata": {
        "id": "812NuryC6gNl"
      },
      "source": [
        "df_test1['Forecasted_mul'] = df_test1['forecasted trend'] * df_test1['correction_factor']"
      ],
      "execution_count": 113,
      "outputs": []
    },
    {
      "cell_type": "code",
      "metadata": {
        "colab": {
          "base_uri": "https://localhost:8080/",
          "height": 206
        },
        "id": "EozshJHw6mrH",
        "outputId": "f4fcd7fd-3a43-4c04-e4d4-1dfe0c9b198a"
      },
      "source": [
        "df_test1.head()"
      ],
      "execution_count": 114,
      "outputs": [
        {
          "output_type": "execute_result",
          "data": {
            "text/html": [
              "<div>\n",
              "<style scoped>\n",
              "    .dataframe tbody tr th:only-of-type {\n",
              "        vertical-align: middle;\n",
              "    }\n",
              "\n",
              "    .dataframe tbody tr th {\n",
              "        vertical-align: top;\n",
              "    }\n",
              "\n",
              "    .dataframe thead th {\n",
              "        text-align: right;\n",
              "    }\n",
              "</style>\n",
              "<table border=\"1\" class=\"dataframe\">\n",
              "  <thead>\n",
              "    <tr style=\"text-align: right;\">\n",
              "      <th></th>\n",
              "      <th>Years</th>\n",
              "      <th>Sales</th>\n",
              "      <th>quarter</th>\n",
              "      <th>month_name</th>\n",
              "      <th>time</th>\n",
              "      <th>forecasted trend</th>\n",
              "      <th>correction_factor</th>\n",
              "      <th>Forecasted_mul</th>\n",
              "    </tr>\n",
              "  </thead>\n",
              "  <tbody>\n",
              "    <tr>\n",
              "      <th>0</th>\n",
              "      <td>2005-01-01</td>\n",
              "      <td>266.7</td>\n",
              "      <td>1</td>\n",
              "      <td>January</td>\n",
              "      <td>49</td>\n",
              "      <td>350.363298</td>\n",
              "      <td>0.841208</td>\n",
              "      <td>294.728346</td>\n",
              "    </tr>\n",
              "    <tr>\n",
              "      <th>1</th>\n",
              "      <td>2006-01-01</td>\n",
              "      <td>431.8</td>\n",
              "      <td>1</td>\n",
              "      <td>January</td>\n",
              "      <td>61</td>\n",
              "      <td>403.286138</td>\n",
              "      <td>0.841208</td>\n",
              "      <td>339.247452</td>\n",
              "    </tr>\n",
              "    <tr>\n",
              "      <th>2</th>\n",
              "      <td>2005-02-01</td>\n",
              "      <td>317.5</td>\n",
              "      <td>1</td>\n",
              "      <td>February</td>\n",
              "      <td>50</td>\n",
              "      <td>354.773535</td>\n",
              "      <td>0.840934</td>\n",
              "      <td>298.341276</td>\n",
              "    </tr>\n",
              "    <tr>\n",
              "      <th>3</th>\n",
              "      <td>2006-02-01</td>\n",
              "      <td>457.2</td>\n",
              "      <td>1</td>\n",
              "      <td>February</td>\n",
              "      <td>62</td>\n",
              "      <td>407.696374</td>\n",
              "      <td>0.840934</td>\n",
              "      <td>342.845914</td>\n",
              "    </tr>\n",
              "    <tr>\n",
              "      <th>4</th>\n",
              "      <td>2005-03-01</td>\n",
              "      <td>368.3</td>\n",
              "      <td>1</td>\n",
              "      <td>March</td>\n",
              "      <td>51</td>\n",
              "      <td>359.183771</td>\n",
              "      <td>0.804644</td>\n",
              "      <td>289.015154</td>\n",
              "    </tr>\n",
              "  </tbody>\n",
              "</table>\n",
              "</div>"
            ],
            "text/plain": [
              "       Years  Sales  ...  correction_factor Forecasted_mul\n",
              "0 2005-01-01  266.7  ...           0.841208     294.728346\n",
              "1 2006-01-01  431.8  ...           0.841208     339.247452\n",
              "2 2005-02-01  317.5  ...           0.840934     298.341276\n",
              "3 2006-02-01  457.2  ...           0.840934     342.845914\n",
              "4 2005-03-01  368.3  ...           0.804644     289.015154\n",
              "\n",
              "[5 rows x 8 columns]"
            ]
          },
          "metadata": {},
          "execution_count": 114
        }
      ]
    },
    {
      "cell_type": "markdown",
      "metadata": {
        "id": "2UFVGHUq6-ib"
      },
      "source": [
        "Margin of error\n"
      ]
    },
    {
      "cell_type": "code",
      "metadata": {
        "id": "2HzNi1OU7fRV"
      },
      "source": [
        " error = df_train1['Sales'] - df_train1['Fitted_values']"
      ],
      "execution_count": 116,
      "outputs": []
    },
    {
      "cell_type": "code",
      "metadata": {
        "colab": {
          "base_uri": "https://localhost:8080/"
        },
        "id": "6zUiQGAs7igB",
        "outputId": "48233a70-b31b-4061-e441-7f7ce154b20d"
      },
      "source": [
        "se = error.std()\n",
        "ME = 1.96 * se\n",
        "print(ME)"
      ],
      "execution_count": 118,
      "outputs": [
        {
          "output_type": "stream",
          "name": "stdout",
          "text": [
            "36.42544715050407\n"
          ]
        }
      ]
    },
    {
      "cell_type": "code",
      "metadata": {
        "id": "_b5qfZTw8347"
      },
      "source": [
        "df_train1 = df_train1.sort_values(by='Years')\n",
        "df_test1 = df_test1.sort_values(by='Years')"
      ],
      "execution_count": 128,
      "outputs": []
    },
    {
      "cell_type": "code",
      "metadata": {
        "colab": {
          "base_uri": "https://localhost:8080/",
          "height": 638
        },
        "id": "g7xu5WLG74WD",
        "outputId": "5b11ffa6-2703-43f2-d9f5-5a12aa7bceca"
      },
      "source": [
        "\n",
        "\n",
        "# Visualize the data\n",
        "plt.figure(figsize =(8,6),dpi=120)\n",
        "plt.plot(df_train1['Years'],df_train1['Sales'],'o:')\n",
        "plt.plot(df_train1['Years'],df_train1['Fitted_values'],'g')\n",
        "\n",
        "plt.plot(df_test1['Years'],df_test1['Sales'],'ro:')\n",
        "# Forecasted data\n",
        "plt.plot(df_test1['Years'],df_test1['Forecasted_mul'],'b',color='orange')\n",
        "# Margin of data\n",
        "ci_plus = df_test1['Forecasted_mul'] + ME\n",
        "ci_minus = df_test1['Forecasted_mul'] - ME\n",
        "plt.fill_between(df_test1['Years'],ci_plus,ci_minus,alpha=0.1, color='black' )\n",
        "plt.legend(['Timeseries data','trend','True future data','Forecasted trend data','95% Confidence Interval'])\n",
        "\n",
        "plt.xlabel('time')\n",
        "plt.ylabel('Sales')\n",
        "\n",
        "plt.show()\n",
        "\n"
      ],
      "execution_count": 129,
      "outputs": [
        {
          "output_type": "display_data",
          "data": {
            "image/png": "[encoded data removed]",
            "text/plain": [
              "<Figure size 960x720 with 1 Axes>"
            ]
          },
          "metadata": {
            "needs_background": "light"
          }
        }
      ]
    }
  ]
}